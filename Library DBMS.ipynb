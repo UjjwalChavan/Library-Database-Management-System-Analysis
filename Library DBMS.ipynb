{
 "cells": [
  {
   "cell_type": "code",
   "execution_count": 1,
   "metadata": {},
   "outputs": [
    {
     "name": "stderr",
     "output_type": "stream",
     "text": [
      "C:\\Users\\ujjwa\\AppData\\Local\\Temp\\ipykernel_16884\\3610780369.py:1: DeprecationWarning: \n",
      "Pyarrow will become a required dependency of pandas in the next major release of pandas (pandas 3.0),\n",
      "(to allow more performant data types, such as the Arrow string type, and better interoperability with other libraries)\n",
      "but was not found to be installed on your system.\n",
      "If this would cause problems for you,\n",
      "please provide us feedback at https://github.com/pandas-dev/pandas/issues/54466\n",
      "        \n",
      "  import pandas as pd\n"
     ]
    }
   ],
   "source": [
    "import pandas as pd\n",
    "import sqlite3 as sq"
   ]
  },
  {
   "cell_type": "code",
   "execution_count": 2,
   "metadata": {},
   "outputs": [
    {
     "name": "stdout",
     "output_type": "stream",
     "text": [
      "Database Created Sucessfully.\n"
     ]
    }
   ],
   "source": [
    "db=sq.connect(\"Library.Db\")\n",
    "cur=db.cursor()\n",
    "print(\"Database Created Sucessfully.\")"
   ]
  },
  {
   "cell_type": "code",
   "execution_count": 3,
   "metadata": {},
   "outputs": [
    {
     "name": "stdout",
     "output_type": "stream",
     "text": [
      "Table Authors Created Sucessfully.\n"
     ]
    }
   ],
   "source": [
    "cur.execute(\"\"\"\n",
    "CREATE TABLE Authors (\n",
    "AuthorID INT PRIMARY KEY,\n",
    "AuthorName VARCHAR(25) NOT NULL\n",
    ");\n",
    "\"\"\")\n",
    "print(\"Table Authors Created Sucessfully.\")"
   ]
  },
  {
   "cell_type": "code",
   "execution_count": 4,
   "metadata": {},
   "outputs": [
    {
     "name": "stdout",
     "output_type": "stream",
     "text": [
      "Data Inserted in Table Authors Sucessfully.\n"
     ]
    }
   ],
   "source": [
    "cur.execute(\"INSERT INTO Authors VALUES(101,'Author 1');\")\n",
    "cur.execute(\"INSERT INTO Authors VALUES(102,'Author 2');\")\n",
    "cur.execute(\"INSERT INTO Authors VALUES(103,'Author 3');\")\n",
    "cur.execute(\"INSERT INTO Authors VALUES(104,'Author 4');\")\n",
    "cur.execute(\"INSERT INTO Authors VALUES(105,'Author 5');\")\n",
    "print(\"Data Inserted in Table Authors Sucessfully.\")"
   ]
  },
  {
   "cell_type": "code",
   "execution_count": 5,
   "metadata": {},
   "outputs": [],
   "source": [
    "cur.execute(\"SELECT * FROM Authors;\")\n",
    "Authors=cur.fetchall()"
   ]
  },
  {
   "cell_type": "code",
   "execution_count": 6,
   "metadata": {},
   "outputs": [
    {
     "name": "stdout",
     "output_type": "stream",
     "text": [
      "   Author_ID Author_Name\n",
      "1        101    Author 1\n",
      "2        102    Author 2\n",
      "3        103    Author 3\n",
      "4        104    Author 4\n",
      "5        105    Author 5\n"
     ]
    }
   ],
   "source": [
    "print(pd.DataFrame(Authors,columns=[\"Author_ID\",\"Author_Name\"],index=[1,2,3,4,5]))"
   ]
  },
  {
   "cell_type": "code",
   "execution_count": 7,
   "metadata": {},
   "outputs": [
    {
     "name": "stdout",
     "output_type": "stream",
     "text": [
      "Table Books Created Sucessfully.\n"
     ]
    }
   ],
   "source": [
    "cur.execute(\"\"\"\n",
    "CREATE TABLE Books (\n",
    "    BookID INT PRIMARY KEY,\n",
    "    Title VARCHAR(25) NOT NULL,\n",
    "    ISBN VARCHAR(10) UNIQUE,\n",
    "    PublicationYear INT,\n",
    "    AuthorID INT,\n",
    "    FOREIGN KEY (AuthorID) REFERENCES Authors(AuthorID)\n",
    ");\n",
    "\"\"\")\n",
    "print(\"Table Books Created Sucessfully.\")"
   ]
  },
  {
   "cell_type": "code",
   "execution_count": 8,
   "metadata": {},
   "outputs": [
    {
     "name": "stdout",
     "output_type": "stream",
     "text": [
      "Data Inserted in Table Books Sucessfully.\n"
     ]
    }
   ],
   "source": [
    "cur.execute(\"INSERT INTO Books VALUES(1001,'Book 1','ISBN001',2020,101);\")\n",
    "cur.execute(\"INSERT INTO Books VALUES(1002,'Book 2','ISBN002',2019,102);\")\n",
    "cur.execute(\"INSERT INTO Books VALUES(1003,'Book 3','ISBN003',2018,103);\")\n",
    "cur.execute(\"INSERT INTO Books VALUES(1004,'Book 4','ISBN004',2017,104);\")\n",
    "cur.execute(\"INSERT INTO Books VALUES(1005,'Book 5','ISBN005',2016,105);\")\n",
    "print(\"Data Inserted in Table Books Sucessfully.\")"
   ]
  },
  {
   "cell_type": "code",
   "execution_count": 9,
   "metadata": {},
   "outputs": [],
   "source": [
    "cur.execute(\"SELECT * FROM Books;\")\n",
    "Books=cur.fetchall()"
   ]
  },
  {
   "cell_type": "code",
   "execution_count": 10,
   "metadata": {},
   "outputs": [
    {
     "name": "stdout",
     "output_type": "stream",
     "text": [
      "   Book_ID   Title  ISBN_NO  Publication_Year  Author_ID\n",
      "1     1001  Book 1  ISBN001              2020        101\n",
      "2     1002  Book 2  ISBN002              2019        102\n",
      "3     1003  Book 3  ISBN003              2018        103\n",
      "4     1004  Book 4  ISBN004              2017        104\n",
      "5     1005  Book 5  ISBN005              2016        105\n"
     ]
    }
   ],
   "source": [
    "print(pd.DataFrame(Books,columns=[\"Book_ID\",\"Title\",\"ISBN_NO\",\"Publication_Year\",\"Author_ID\"],index=[1,2,3,4,5]))"
   ]
  },
  {
   "cell_type": "code",
   "execution_count": 11,
   "metadata": {},
   "outputs": [
    {
     "name": "stdout",
     "output_type": "stream",
     "text": [
      "Table Users Created Sucessfully.\n"
     ]
    }
   ],
   "source": [
    "cur.execute(\"\"\"\n",
    "CREATE TABLE Users(\n",
    "    UserID INT PRIMARY KEY,\n",
    "    FirstName VARCHAR(50) NOT NULL,\n",
    "    LastName VARCHAR(50) NOT NULL,\n",
    "    Email VARCHAR(100)\n",
    ");\n",
    "\"\"\")\n",
    "print(\"Table Users Created Sucessfully.\")"
   ]
  },
  {
   "cell_type": "code",
   "execution_count": 12,
   "metadata": {},
   "outputs": [
    {
     "name": "stdout",
     "output_type": "stream",
     "text": [
      "Data Inserted in Table Users Sucessfully.\n"
     ]
    }
   ],
   "source": [
    "cur.execute(\"INSERT INTO Users VALUES(10001,'Ujjwal','Chavan','UC@gmail.com');\")\n",
    "cur.execute(\"INSERT INTO Users VALUES(10002,'Omkar','Mandlik','OM@gmail.com');\")\n",
    "cur.execute(\"INSERT INTO Users VALUES(10003,'Hitesh','Paighan','HP@gmail.com');\")\n",
    "cur.execute(\"INSERT INTO Users VALUES(10004,'Bhupesh','Shinde','BS@gmail.com');\")\n",
    "cur.execute(\"INSERT INTO Users VALUES(10005,'Saiee','Gavate','SG@gmail.com');\")\n",
    "print(\"Data Inserted in Table Users Sucessfully.\")"
   ]
  },
  {
   "cell_type": "code",
   "execution_count": 13,
   "metadata": {},
   "outputs": [],
   "source": [
    "cur.execute(\"SELECT * FROM Users;\")\n",
    "Users=cur.fetchall()"
   ]
  },
  {
   "cell_type": "code",
   "execution_count": 14,
   "metadata": {},
   "outputs": [
    {
     "name": "stdout",
     "output_type": "stream",
     "text": [
      "   User_ID First_Name Last_Name      Email_ID\n",
      "1    10001     Ujjwal    Chavan  UC@gmail.com\n",
      "2    10002      Omkar   Mandlik  OM@gmail.com\n",
      "3    10003     Hitesh   Paighan  HP@gmail.com\n",
      "4    10004    Bhupesh    Shinde  BS@gmail.com\n",
      "5    10005      Saiee    Gavate  SG@gmail.com\n"
     ]
    }
   ],
   "source": [
    "print(pd.DataFrame(Users,columns=[\"User_ID\",\"First_Name\",\"Last_Name\",\"Email_ID\"],index=[1,2,3,4,5]))"
   ]
  },
  {
   "cell_type": "code",
   "execution_count": 15,
   "metadata": {},
   "outputs": [
    {
     "name": "stdout",
     "output_type": "stream",
     "text": [
      "Table Borrowed Books Created Sucessfully.\n"
     ]
    }
   ],
   "source": [
    "cur.execute(\"\"\"\n",
    "CREATE TABLE BorrowedBooks(\n",
    "BorrowID INT PRIMARY KEY,\n",
    "UserID INT,\n",
    "BookID INT,\n",
    "BorrowDate DATE,\n",
    "ReturnDate DATE,\n",
    "FOREIGN KEY (UserID) REFERENCES Users(UserID),\n",
    "FOREIGN KEY (BookID) REFERENCES Books(BookID)\n",
    ");\n",
    "\"\"\")\n",
    "print(\"Table Borrowed Books Created Sucessfully.\")"
   ]
  },
  {
   "cell_type": "code",
   "execution_count": 16,
   "metadata": {},
   "outputs": [
    {
     "name": "stdout",
     "output_type": "stream",
     "text": [
      "Data Inserted in Table Borrowed Books Sucessfully.\n"
     ]
    }
   ],
   "source": [
    "cur.execute(\"INSERT INTO BorrowedBooks VALUES(1,10001,1001,'2023-11-01','2023-11-14');\")\n",
    "cur.execute(\"INSERT INTO BorrowedBooks VALUES(2,10002,1002,'2023-11-02','2023-11-15');\")\n",
    "cur.execute(\"INSERT INTO BorrowedBooks VALUES(3,10003,1003,'2023-11-03','2023-11-16');\")\n",
    "cur.execute(\"INSERT INTO BorrowedBooks VALUES(4,10004,1004,'2023-11-04','2023-11-17');\")\n",
    "cur.execute(\"INSERT INTO BorrowedBooks VALUES(5,10005,1005,'2023-11-05','2023-11-18');\")\n",
    "print(\"Data Inserted in Table Borrowed Books Sucessfully.\")"
   ]
  },
  {
   "cell_type": "code",
   "execution_count": 17,
   "metadata": {},
   "outputs": [],
   "source": [
    "cur.execute(\"SELECT * FROM BorrowedBooks;\")\n",
    "BorrowedBooks=cur.fetchall()"
   ]
  },
  {
   "cell_type": "code",
   "execution_count": 18,
   "metadata": {},
   "outputs": [
    {
     "name": "stdout",
     "output_type": "stream",
     "text": [
      "   Borrow_ID  User_ID  Book_ID Borrow_Date Return_Date\n",
      "1          1    10001     1001  2023-11-01  2023-11-14\n",
      "2          2    10002     1002  2023-11-02  2023-11-15\n",
      "3          3    10003     1003  2023-11-03  2023-11-16\n",
      "4          4    10004     1004  2023-11-04  2023-11-17\n",
      "5          5    10005     1005  2023-11-05  2023-11-18\n"
     ]
    }
   ],
   "source": [
    "print(pd.DataFrame(BorrowedBooks,columns=[\"Borrow_ID\",\"User_ID\",\"Book_ID\",\"Borrow_Date\",\"Return_Date\"],index=[1,2,3,4,5]))"
   ]
  },
  {
   "cell_type": "code",
   "execution_count": 19,
   "metadata": {},
   "outputs": [],
   "source": [
    "cur.execute(\"\"\"\n",
    "SELECT Users.FirstName, Users.LastName, Books.Title, BorrowedBooks.BorrowDate, BorrowedBooks.ReturnDate\n",
    "FROM Users\n",
    "JOIN BorrowedBooks ON Users.UserID = BorrowedBooks.UserID\n",
    "JOIN Books ON BorrowedBooks.BookID = Books.BookID\n",
    "WHERE Users.UserID = 10001;\n",
    "\"\"\")\n",
    "User_Record=cur.fetchall()"
   ]
  },
  {
   "cell_type": "code",
   "execution_count": 20,
   "metadata": {},
   "outputs": [
    {
     "name": "stdout",
     "output_type": "stream",
     "text": [
      "            First_Name Last_Name   Title Borrow_Date Return_Date\n",
      "User_Record     Ujjwal    Chavan  Book 1  2023-11-01  2023-11-14\n"
     ]
    }
   ],
   "source": [
    "print(pd.DataFrame(User_Record,columns=[\"First_Name\",\"Last_Name\",\"Title\",\"Borrow_Date\",\"Return_Date\"],index=[\"User_Record\"]))"
   ]
  },
  {
   "cell_type": "code",
   "execution_count": 21,
   "metadata": {},
   "outputs": [],
   "source": [
    "cur.execute(\"\"\"\n",
    "SELECT Authors.AuthorName, Books.Title, Books.ISBN, Books.PublicationYear\n",
    "FROM Authors\n",
    "JOIN Books ON Authors.AuthorID = Books.AuthorID\n",
    "WHERE Authors.AuthorName = 'Author 1';\n",
    "\"\"\")\n",
    "Book_Record=cur.fetchall()"
   ]
  },
  {
   "cell_type": "code",
   "execution_count": 22,
   "metadata": {},
   "outputs": [
    {
     "name": "stdout",
     "output_type": "stream",
     "text": [
      "            Author_Name   Title  ISBN_NO  Publication_Year\n",
      "Book_Record    Author 1  Book 1  ISBN001              2020\n"
     ]
    }
   ],
   "source": [
    "print(pd.DataFrame(Book_Record,columns=[\"Author_Name\",\"Title\",\"ISBN_NO\",\"Publication_Year\"],index=[\"Book_Record\"]))"
   ]
  }
 ],
 "metadata": {
  "kernelspec": {
   "display_name": "Python 3",
   "language": "python",
   "name": "python3"
  },
  "language_info": {
   "codemirror_mode": {
    "name": "ipython",
    "version": 3
   },
   "file_extension": ".py",
   "mimetype": "text/x-python",
   "name": "python",
   "nbconvert_exporter": "python",
   "pygments_lexer": "ipython3",
   "version": "3.12.1"
  }
 },
 "nbformat": 4,
 "nbformat_minor": 2
}
